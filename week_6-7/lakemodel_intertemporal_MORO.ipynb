{
 "cells": [
  {
   "cell_type": "markdown",
   "metadata": {},
   "source": [
    "# Multi-objective Robust Optimization (MORO) for the intertemporal lake_problem\n",
    "\n",
    "Follow the guidelines for the DPS_MORO assignment, but use the intertemporal version of the lake problem as used in previous weeks. \n",
    "\n",
    "Again, this is very time consuming. You will need at least 100.000 function evaluations to get decent results. \n",
    "\n",
    "Visualize the performance of the solutions using parallel coordinate plots. What do you observe?"
   ]
  },
  {
   "cell_type": "code",
   "execution_count": null,
   "metadata": {},
   "outputs": [],
   "source": []
  }
 ],
 "metadata": {
  "kernelspec": {
   "display_name": "Python 3",
   "language": "python",
   "name": "python3"
  },
  "language_info": {
   "codemirror_mode": {
    "name": "ipython",
    "version": 3
   },
   "file_extension": ".py",
   "mimetype": "text/x-python",
   "name": "python",
   "nbconvert_exporter": "python",
   "pygments_lexer": "ipython3",
   "version": "3.6.3"
  }
 },
 "nbformat": 4,
 "nbformat_minor": 2
}
