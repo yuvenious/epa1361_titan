{
 "cells": [
  {
   "cell_type": "markdown",
   "metadata": {},
   "source": [
    "# Exercise: Analysis and visualization of output data\n",
    "- Generate 1000 scenarios for the flu model given the uncertainties specified (see ./model), or load the results found in ./data.\n",
    "\n",
    "- What are the uncertainties, outcomes of interest and policies?\n",
    "\n",
    "- How many time steps are there in each simulation (extract this from the output rather than opening the vensim model)?\n",
    "\n",
    "- Considering their end states, which outcomes of interest are negatively correlated?\n",
    "\n",
    "- Considering only the 'no policy' scenarios, how do **infected fraction** and **deceased population** relate over time?    \n",
    "\n",
    "*hint: use [logical indexing](https://docs.scipy.org/doc/numpy-1.14.0/reference/arrays.indexing.html#boolean-array-indexing)*\n",
    "\n",
    "- For the no policy results, visualize the envelope of outcomes for **infected fraction** over time, together with individual scenarios corresponding to the following region: \n",
    "\n",
    "    - *time of max* < 10\n",
    "    - **and** *max infection fraction* > 0.4\n",
    "\n",
    "*hint: look at the documentation of the plotting modules that come with the workbench*\n",
    "\n",
    " \n",
    "- For all results, visualize the end states of the outcome indicators **infected fraction**, **deceased population** and **time of max** on a single plot; where the results are grouped by policies, and for each policy, according to the following conditions:\n",
    "\n",
    "    - *infected fraction R1* at the 100th timestep > 0.1\n",
    "    - **and** *infection ratio region 1* > 0.1 (note that *infection ratio region 1* is an uncertainty)"
   ]
  },
  {
   "cell_type": "code",
   "execution_count": 5,
   "metadata": {},
   "outputs": [
    {
     "name": "stderr",
     "output_type": "stream",
     "text": [
      "C:\\Anaconda3\\envs\\py36_32\\lib\\site-packages\\ema_workbench\\em_framework\\optimization.py:29: ImportWarning: platypus based optimization not available\n",
      "  warnings.warn(\"platypus based optimization not available\", ImportWarning)\n"
     ]
    },
    {
     "data": {
      "text/plain": [
       "<Logger EMA (DEBUG)>"
      ]
     },
     "execution_count": 5,
     "metadata": {},
     "output_type": "execute_result"
    }
   ],
   "source": [
    "import numpy as np\n",
    "import pandas as pd\n",
    "import itertools\n",
    "\n",
    "import matplotlib.pyplot as plt\n",
    "import seaborn as sns\n",
    "import pysd\n",
    "\n",
    "from ema_workbench import Model, RealParameter, TimeSeriesOutcome, perform_experiments, ema_logging\n",
    "from ema_workbench.connectors.pysd_connector import PysdModel\n",
    "from ema_workbench.connectors.vensim import VensimModel\n",
    "from ema_workbench.em_framework.evaluators import LHS, SOBOL, MORRIS\n",
    "from ema_workbench.analysis.plotting import lines\n",
    "from ema_workbench.analysis.plotting_util import KDE\n",
    "\n",
    "ema_logging.log_to_stderr(ema_logging.INFO)"
   ]
  },
  {
   "cell_type": "code",
   "execution_count": 6,
   "metadata": {},
   "outputs": [],
   "source": [
    "uncertainties = pd.read_csv(\"./model/flu_uncertainties.csv\")"
   ]
  },
  {
   "cell_type": "code",
   "execution_count": 7,
   "metadata": {},
   "outputs": [
    {
     "data": {
      "text/plain": [
       "[\"RealParameter('additional seasonal immune population fraction R1', 0.0, 0.5)\",\n",
       " \"RealParameter('additional seasonal immune population fraction R2', 0.0, 0.5)\",\n",
       " \"RealParameter('fatality ratio region 1', 0.0001, 0.1)\",\n",
       " \"RealParameter('fatality rate region 2', 0.0001, 0.1)\",\n",
       " \"RealParameter('initial immune fraction of the population of region 1', 0.0, 0.5)\",\n",
       " \"RealParameter('initial immune fraction of the population of region 2', 0.0, 0.5)\",\n",
       " \"RealParameter('normal interregional contact rate', 0.0, 0.9)\",\n",
       " \"RealParameter('permanent immune population fraction R1', 0.0, 0.5)\",\n",
       " \"RealParameter('permanent immune population fraction R2', 0.0, 0.5)\",\n",
       " \"RealParameter('recovery time region 1', 0.1, 0.75)\",\n",
       " \"RealParameter('recovery time region 2', 0.1, 0.75)\",\n",
       " \"RealParameter('susceptible to immune population delay time region 1', 0.5, 2.0)\",\n",
       " \"RealParameter('susceptible to immune population delay time region 2', 0.5, 2.0)\",\n",
       " \"RealParameter('root contact rate region 1', 0.01, 5.0)\",\n",
       " \"RealParameter('root contact ratio region 2', 0.01, 5.0)\",\n",
       " \"RealParameter('infection ratio region 1', 0.0, 0.15)\",\n",
       " \"RealParameter('infection rate region 2', 0.0, 0.15)\",\n",
       " \"RealParameter('normal contact rate region 1', 10.0, 100.0)\",\n",
       " \"RealParameter('normal contact rate region 2', 10.0, 200.0)\"]"
      ]
     },
     "execution_count": 7,
     "metadata": {},
     "output_type": "execute_result"
    }
   ],
   "source": [
    "uncertainties.apply(lambda x: \"\".join(['RealParameter(',\"'\",\n",
    "                                       x[0],\"', \",\n",
    "                                       str(x[1]),\", \",\n",
    "                                       str(x[2]),\")\"\n",
    "                                      ]),\n",
    "                    axis = 1).tolist()"
   ]
  },
  {
   "cell_type": "code",
   "execution_count": 8,
   "metadata": {},
   "outputs": [],
   "source": [
    "uncertainties = [\n",
    "    RealParameter('additional seasonal immune population fraction R1', 0.0, 0.5),\n",
    "    RealParameter('additional seasonal immune population fraction R2', 0.0, 0.5),\n",
    "    RealParameter('fatality ratio region 1', 0.0001, 0.1),\n",
    "    RealParameter('fatality rate region 2', 0.0001, 0.1),\n",
    "    RealParameter('initial immune fraction of the population of region 1', 0.0, 0.5),\n",
    "    RealParameter('initial immune fraction of the population of region 2', 0.0, 0.5),\n",
    "    RealParameter('normal interregional contact rate', 0.0, 0.9),\n",
    "    RealParameter('permanent immune population fraction R1', 0.0, 0.5),\n",
    "    RealParameter('permanent immune population fraction R2', 0.0, 0.5),\n",
    "    RealParameter('recovery time region 1', 0.1, 0.75),\n",
    "    RealParameter('recovery time region 2', 0.1, 0.75),\n",
    "    RealParameter('susceptible to immune population delay time region 1', 0.5, 2.0),\n",
    "    RealParameter('susceptible to immune population delay time region 2', 0.5, 2.0),\n",
    "    RealParameter('root contact rate region 1', 0.01, 5.0),\n",
    "    RealParameter('root contact ratio region 2', 0.01, 5.0),\n",
    "    RealParameter('infection ratio region 1', 0.0, 0.15),\n",
    "    RealParameter('infection rate region 2', 0.0, 0.15),\n",
    "    RealParameter('normal contact rate region 1', 10.0, 100.0),\n",
    "    RealParameter('normal contact rate region 2', 10.0, 200.0)]"
   ]
  },
  {
   "cell_type": "code",
   "execution_count": 21,
   "metadata": {},
   "outputs": [],
   "source": [
    "outcomes = [\n",
    "    TimeSeriesOutcome('total cost'),\n",
    "    TimeSeriesOutcome('deceased population region 1'),\n",
    "    TimeSeriesOutcome('peak infected fraction TIME R1'),\n",
    "    TimeSeriesOutcome('peak infected fraction R1'),    \n",
    "]"
   ]
  },
  {
   "cell_type": "markdown",
   "metadata": {},
   "source": [
    "### vensim/pysd connector doesn't work?"
   ]
  },
  {
   "cell_type": "code",
   "execution_count": 26,
   "metadata": {},
   "outputs": [],
   "source": [
    "# flu_mdl = PysdModel(name=\"flu\", mdl_file=\"./model/FLU.mdl\")\n",
    "flu_mdl = VensimModel(name=\"flu\", model_file=\"./model/FLUvensimV1basecase.vpm\")\n",
    "flu_mdl.uncertainties = uncertainties\n",
    "flu_mdl.outcomes = outcomes"
   ]
  },
  {
   "cell_type": "code",
   "execution_count": 27,
   "metadata": {},
   "outputs": [
    {
     "name": "stderr",
     "output_type": "stream",
     "text": [
      "[MainProcess/INFO] performing 2 scenarios * 1 policies * 1 model(s) = 2 experiments\n",
      "[MainProcess/INFO] performing experiments sequentially\n",
      "[MainProcess/ERROR] float division by zero\n",
      "Traceback (most recent call last):\n",
      "  File \"C:\\Anaconda3\\envs\\py36_32\\lib\\site-packages\\ema_workbench\\em_framework\\experiment_runner.py\", line 89, in run_experiment\n",
      "    model.run_model(scenario, policy)\n",
      "  File \"C:\\Anaconda3\\envs\\py36_32\\lib\\site-packages\\ema_workbench\\util\\ema_logging.py\", line 49, in wrapper\n",
      "    res = func(*args, **kwargs)\n",
      "  File \"C:\\Anaconda3\\envs\\py36_32\\lib\\site-packages\\ema_workbench\\em_framework\\model.py\", line 377, in run_model\n",
      "    super(SingleReplication, self).run_model(scenario, policy)\n",
      "  File \"C:\\Anaconda3\\envs\\py36_32\\lib\\site-packages\\ema_workbench\\util\\ema_logging.py\", line 49, in wrapper\n",
      "    res = func(*args, **kwargs)\n",
      "  File \"C:\\Anaconda3\\envs\\py36_32\\lib\\site-packages\\ema_workbench\\em_framework\\model.py\", line 227, in run_model\n",
      "    self.model_init(policy)\n",
      "  File \"C:\\Anaconda3\\envs\\py36_32\\lib\\site-packages\\ema_workbench\\connectors\\vensim.py\", line 304, in model_init\n",
      "    self.run_length = int((finalTime - initialTime)/timeStep +1)\n",
      "ZeroDivisionError: float division by zero\n",
      "Traceback (most recent call last):\n",
      "  File \"C:\\Anaconda3\\envs\\py36_32\\lib\\site-packages\\ema_workbench\\em_framework\\experiment_runner.py\", line 89, in run_experiment\n",
      "    model.run_model(scenario, policy)\n",
      "  File \"C:\\Anaconda3\\envs\\py36_32\\lib\\site-packages\\ema_workbench\\util\\ema_logging.py\", line 49, in wrapper\n",
      "    res = func(*args, **kwargs)\n",
      "  File \"C:\\Anaconda3\\envs\\py36_32\\lib\\site-packages\\ema_workbench\\em_framework\\model.py\", line 377, in run_model\n",
      "    super(SingleReplication, self).run_model(scenario, policy)\n",
      "  File \"C:\\Anaconda3\\envs\\py36_32\\lib\\site-packages\\ema_workbench\\util\\ema_logging.py\", line 49, in wrapper\n",
      "    res = func(*args, **kwargs)\n",
      "  File \"C:\\Anaconda3\\envs\\py36_32\\lib\\site-packages\\ema_workbench\\em_framework\\model.py\", line 227, in run_model\n",
      "    self.model_init(policy)\n",
      "  File \"C:\\Anaconda3\\envs\\py36_32\\lib\\site-packages\\ema_workbench\\connectors\\vensim.py\", line 304, in model_init\n",
      "    self.run_length = int((finalTime - initialTime)/timeStep +1)\n",
      "ZeroDivisionError: float division by zero\n"
     ]
    },
    {
     "ename": "EMAError",
     "evalue": "exception in run_model\nCaused by: ZeroDivisionError: float division by zero",
     "output_type": "error",
     "traceback": [
      "\u001b[1;31m---------------------------------------------------------------------------\u001b[0m",
      "\u001b[1;31mZeroDivisionError\u001b[0m                         Traceback (most recent call last)",
      "\u001b[1;32mC:\\Anaconda3\\envs\\py36_32\\lib\\site-packages\\ema_workbench\\em_framework\\experiment_runner.py\u001b[0m in \u001b[0;36mrun_experiment\u001b[1;34m(self, experiment)\u001b[0m\n\u001b[0;32m     88\u001b[0m         \u001b[1;32mtry\u001b[0m\u001b[1;33m:\u001b[0m\u001b[1;33m\u001b[0m\u001b[0m\n\u001b[1;32m---> 89\u001b[1;33m             \u001b[0mmodel\u001b[0m\u001b[1;33m.\u001b[0m\u001b[0mrun_model\u001b[0m\u001b[1;33m(\u001b[0m\u001b[0mscenario\u001b[0m\u001b[1;33m,\u001b[0m \u001b[0mpolicy\u001b[0m\u001b[1;33m)\u001b[0m\u001b[1;33m\u001b[0m\u001b[0m\n\u001b[0m\u001b[0;32m     90\u001b[0m         \u001b[1;32mexcept\u001b[0m \u001b[0mCaseError\u001b[0m \u001b[1;32mas\u001b[0m \u001b[0me\u001b[0m\u001b[1;33m:\u001b[0m\u001b[1;33m\u001b[0m\u001b[0m\n",
      "\u001b[1;32mC:\\Anaconda3\\envs\\py36_32\\lib\\site-packages\\ema_workbench\\util\\ema_logging.py\u001b[0m in \u001b[0;36mwrapper\u001b[1;34m(*args, **kwargs)\u001b[0m\n\u001b[0;32m     48\u001b[0m         \u001b[0mdebug\u001b[0m\u001b[1;33m(\u001b[0m\u001b[1;34m'calling {} on {}'\u001b[0m\u001b[1;33m.\u001b[0m\u001b[0mformat\u001b[0m\u001b[1;33m(\u001b[0m\u001b[0mfunc\u001b[0m\u001b[1;33m.\u001b[0m\u001b[0m__name__\u001b[0m\u001b[1;33m,\u001b[0m \u001b[0mclassname\u001b[0m\u001b[1;33m)\u001b[0m\u001b[1;33m)\u001b[0m\u001b[1;33m\u001b[0m\u001b[0m\n\u001b[1;32m---> 49\u001b[1;33m         \u001b[0mres\u001b[0m \u001b[1;33m=\u001b[0m \u001b[0mfunc\u001b[0m\u001b[1;33m(\u001b[0m\u001b[1;33m*\u001b[0m\u001b[0margs\u001b[0m\u001b[1;33m,\u001b[0m \u001b[1;33m**\u001b[0m\u001b[0mkwargs\u001b[0m\u001b[1;33m)\u001b[0m\u001b[1;33m\u001b[0m\u001b[0m\n\u001b[0m\u001b[0;32m     50\u001b[0m         \u001b[0mdebug\u001b[0m\u001b[1;33m(\u001b[0m\u001b[1;34m'completed calling {} on {}'\u001b[0m\u001b[1;33m.\u001b[0m\u001b[0mformat\u001b[0m\u001b[1;33m(\u001b[0m\u001b[0mfunc\u001b[0m\u001b[1;33m.\u001b[0m\u001b[0m__name__\u001b[0m\u001b[1;33m,\u001b[0m \u001b[0mclassname\u001b[0m\u001b[1;33m)\u001b[0m\u001b[1;33m)\u001b[0m\u001b[1;33m\u001b[0m\u001b[0m\n",
      "\u001b[1;32mC:\\Anaconda3\\envs\\py36_32\\lib\\site-packages\\ema_workbench\\em_framework\\model.py\u001b[0m in \u001b[0;36mrun_model\u001b[1;34m(self, scenario, policy)\u001b[0m\n\u001b[0;32m    376\u001b[0m         \"\"\"\n\u001b[1;32m--> 377\u001b[1;33m         \u001b[0msuper\u001b[0m\u001b[1;33m(\u001b[0m\u001b[0mSingleReplication\u001b[0m\u001b[1;33m,\u001b[0m \u001b[0mself\u001b[0m\u001b[1;33m)\u001b[0m\u001b[1;33m.\u001b[0m\u001b[0mrun_model\u001b[0m\u001b[1;33m(\u001b[0m\u001b[0mscenario\u001b[0m\u001b[1;33m,\u001b[0m \u001b[0mpolicy\u001b[0m\u001b[1;33m)\u001b[0m\u001b[1;33m\u001b[0m\u001b[0m\n\u001b[0m\u001b[0;32m    378\u001b[0m         \u001b[1;31m# TODO:: should this not be moved up?\u001b[0m\u001b[1;33m\u001b[0m\u001b[1;33m\u001b[0m\u001b[0m\n",
      "\u001b[1;32mC:\\Anaconda3\\envs\\py36_32\\lib\\site-packages\\ema_workbench\\util\\ema_logging.py\u001b[0m in \u001b[0;36mwrapper\u001b[1;34m(*args, **kwargs)\u001b[0m\n\u001b[0;32m     48\u001b[0m         \u001b[0mdebug\u001b[0m\u001b[1;33m(\u001b[0m\u001b[1;34m'calling {} on {}'\u001b[0m\u001b[1;33m.\u001b[0m\u001b[0mformat\u001b[0m\u001b[1;33m(\u001b[0m\u001b[0mfunc\u001b[0m\u001b[1;33m.\u001b[0m\u001b[0m__name__\u001b[0m\u001b[1;33m,\u001b[0m \u001b[0mclassname\u001b[0m\u001b[1;33m)\u001b[0m\u001b[1;33m)\u001b[0m\u001b[1;33m\u001b[0m\u001b[0m\n\u001b[1;32m---> 49\u001b[1;33m         \u001b[0mres\u001b[0m \u001b[1;33m=\u001b[0m \u001b[0mfunc\u001b[0m\u001b[1;33m(\u001b[0m\u001b[1;33m*\u001b[0m\u001b[0margs\u001b[0m\u001b[1;33m,\u001b[0m \u001b[1;33m**\u001b[0m\u001b[0mkwargs\u001b[0m\u001b[1;33m)\u001b[0m\u001b[1;33m\u001b[0m\u001b[0m\n\u001b[0m\u001b[0;32m     50\u001b[0m         \u001b[0mdebug\u001b[0m\u001b[1;33m(\u001b[0m\u001b[1;34m'completed calling {} on {}'\u001b[0m\u001b[1;33m.\u001b[0m\u001b[0mformat\u001b[0m\u001b[1;33m(\u001b[0m\u001b[0mfunc\u001b[0m\u001b[1;33m.\u001b[0m\u001b[0m__name__\u001b[0m\u001b[1;33m,\u001b[0m \u001b[0mclassname\u001b[0m\u001b[1;33m)\u001b[0m\u001b[1;33m)\u001b[0m\u001b[1;33m\u001b[0m\u001b[0m\n",
      "\u001b[1;32mC:\\Anaconda3\\envs\\py36_32\\lib\\site-packages\\ema_workbench\\em_framework\\model.py\u001b[0m in \u001b[0;36mrun_model\u001b[1;34m(self, scenario, policy)\u001b[0m\n\u001b[0;32m    226\u001b[0m         \u001b[1;32mif\u001b[0m \u001b[1;32mnot\u001b[0m \u001b[0mself\u001b[0m\u001b[1;33m.\u001b[0m\u001b[0minitialized\u001b[0m\u001b[1;33m(\u001b[0m\u001b[0mpolicy\u001b[0m\u001b[1;33m)\u001b[0m\u001b[1;33m:\u001b[0m\u001b[1;33m\u001b[0m\u001b[0m\n\u001b[1;32m--> 227\u001b[1;33m             \u001b[0mself\u001b[0m\u001b[1;33m.\u001b[0m\u001b[0mmodel_init\u001b[0m\u001b[1;33m(\u001b[0m\u001b[0mpolicy\u001b[0m\u001b[1;33m)\u001b[0m\u001b[1;33m\u001b[0m\u001b[0m\n\u001b[0m\u001b[0;32m    228\u001b[0m \u001b[1;33m\u001b[0m\u001b[0m\n",
      "\u001b[1;32mC:\\Anaconda3\\envs\\py36_32\\lib\\site-packages\\ema_workbench\\connectors\\vensim.py\u001b[0m in \u001b[0;36mmodel_init\u001b[1;34m(self, policy)\u001b[0m\n\u001b[0;32m    303\u001b[0m \u001b[1;33m\u001b[0m\u001b[0m\n\u001b[1;32m--> 304\u001b[1;33m             \u001b[0mself\u001b[0m\u001b[1;33m.\u001b[0m\u001b[0mrun_length\u001b[0m \u001b[1;33m=\u001b[0m \u001b[0mint\u001b[0m\u001b[1;33m(\u001b[0m\u001b[1;33m(\u001b[0m\u001b[0mfinalTime\u001b[0m \u001b[1;33m-\u001b[0m \u001b[0minitialTime\u001b[0m\u001b[1;33m)\u001b[0m\u001b[1;33m/\u001b[0m\u001b[0mtimeStep\u001b[0m \u001b[1;33m+\u001b[0m\u001b[1;36m1\u001b[0m\u001b[1;33m)\u001b[0m\u001b[1;33m\u001b[0m\u001b[0m\n\u001b[0m\u001b[0;32m    305\u001b[0m         \u001b[1;32mexcept\u001b[0m \u001b[0mVensimWarning\u001b[0m\u001b[1;33m:\u001b[0m\u001b[1;33m\u001b[0m\u001b[0m\n",
      "\u001b[1;31mZeroDivisionError\u001b[0m: float division by zero",
      "\nDuring handling of the above exception, another exception occurred:\n",
      "\u001b[1;31mEMAError\u001b[0m                                  Traceback (most recent call last)",
      "\u001b[1;32m<ipython-input-27-684a94743f51>\u001b[0m in \u001b[0;36m<module>\u001b[1;34m()\u001b[0m\n\u001b[0;32m      1\u001b[0m \u001b[0mn_scenarios\u001b[0m \u001b[1;33m=\u001b[0m \u001b[1;36m2\u001b[0m\u001b[1;33m\u001b[0m\u001b[0m\n\u001b[1;32m----> 2\u001b[1;33m \u001b[0mresult\u001b[0m \u001b[1;33m=\u001b[0m \u001b[0mperform_experiments\u001b[0m\u001b[1;33m(\u001b[0m\u001b[0mmodels\u001b[0m \u001b[1;33m=\u001b[0m \u001b[0mflu_mdl\u001b[0m\u001b[1;33m,\u001b[0m \u001b[0mscenarios\u001b[0m \u001b[1;33m=\u001b[0m \u001b[0mn_scenarios\u001b[0m\u001b[1;33m)\u001b[0m\u001b[1;33m\u001b[0m\u001b[0m\n\u001b[0m",
      "\u001b[1;32mC:\\Anaconda3\\envs\\py36_32\\lib\\site-packages\\ema_workbench\\em_framework\\evaluators.py\u001b[0m in \u001b[0;36mperform_experiments\u001b[1;34m(models, scenarios, policies, evaluator, reporting_interval, reporting_frequency, uncertainty_union, lever_union, outcome_union, uncertainty_sampling, levers_sampling, callback, return_callback)\u001b[0m\n\u001b[0;32m    428\u001b[0m         \u001b[0mevaluator\u001b[0m \u001b[1;33m=\u001b[0m \u001b[0mSequentialEvaluator\u001b[0m\u001b[1;33m(\u001b[0m\u001b[0mmodels\u001b[0m\u001b[1;33m)\u001b[0m\u001b[1;33m\u001b[0m\u001b[0m\n\u001b[0;32m    429\u001b[0m \u001b[1;33m\u001b[0m\u001b[0m\n\u001b[1;32m--> 430\u001b[1;33m     \u001b[0mevaluator\u001b[0m\u001b[1;33m.\u001b[0m\u001b[0mevaluate_experiments\u001b[0m\u001b[1;33m(\u001b[0m\u001b[0mscenarios\u001b[0m\u001b[1;33m,\u001b[0m \u001b[0mpolicies\u001b[0m\u001b[1;33m,\u001b[0m \u001b[0mcallback\u001b[0m\u001b[1;33m)\u001b[0m\u001b[1;33m\u001b[0m\u001b[0m\n\u001b[0m\u001b[0;32m    431\u001b[0m \u001b[1;33m\u001b[0m\u001b[0m\n\u001b[0;32m    432\u001b[0m     \u001b[1;32mif\u001b[0m \u001b[0mcallback\u001b[0m\u001b[1;33m.\u001b[0m\u001b[0mi\u001b[0m \u001b[1;33m!=\u001b[0m \u001b[0mnr_of_exp\u001b[0m\u001b[1;33m:\u001b[0m\u001b[1;33m\u001b[0m\u001b[0m\n",
      "\u001b[1;32mC:\\Anaconda3\\envs\\py36_32\\lib\\site-packages\\ema_workbench\\em_framework\\evaluators.py\u001b[0m in \u001b[0;36mevaluate_experiments\u001b[1;34m(self, scenarios, policies, callback)\u001b[0m\n\u001b[0;32m    211\u001b[0m         \u001b[0mrunner\u001b[0m \u001b[1;33m=\u001b[0m \u001b[0mExperimentRunner\u001b[0m\u001b[1;33m(\u001b[0m\u001b[0mmodels\u001b[0m\u001b[1;33m)\u001b[0m\u001b[1;33m\u001b[0m\u001b[0m\n\u001b[0;32m    212\u001b[0m         \u001b[1;32mfor\u001b[0m \u001b[0mexperiment\u001b[0m \u001b[1;32min\u001b[0m \u001b[0mex_gen\u001b[0m\u001b[1;33m:\u001b[0m\u001b[1;33m\u001b[0m\u001b[0m\n\u001b[1;32m--> 213\u001b[1;33m             \u001b[0moutcomes\u001b[0m \u001b[1;33m=\u001b[0m \u001b[0mrunner\u001b[0m\u001b[1;33m.\u001b[0m\u001b[0mrun_experiment\u001b[0m\u001b[1;33m(\u001b[0m\u001b[0mexperiment\u001b[0m\u001b[1;33m)\u001b[0m\u001b[1;33m\u001b[0m\u001b[0m\n\u001b[0m\u001b[0;32m    214\u001b[0m             \u001b[0mcallback\u001b[0m\u001b[1;33m(\u001b[0m\u001b[0mexperiment\u001b[0m\u001b[1;33m,\u001b[0m \u001b[0moutcomes\u001b[0m\u001b[1;33m)\u001b[0m\u001b[1;33m\u001b[0m\u001b[0m\n\u001b[0;32m    215\u001b[0m         \u001b[0mrunner\u001b[0m\u001b[1;33m.\u001b[0m\u001b[0mcleanup\u001b[0m\u001b[1;33m(\u001b[0m\u001b[1;33m)\u001b[0m\u001b[1;33m\u001b[0m\u001b[0m\n",
      "\u001b[1;32mC:\\Anaconda3\\envs\\py36_32\\lib\\site-packages\\ema_workbench\\em_framework\\experiment_runner.py\u001b[0m in \u001b[0;36mrun_experiment\u001b[1;34m(self, experiment)\u001b[0m\n\u001b[0;32m    104\u001b[0m             \u001b[0merrortype\u001b[0m \u001b[1;33m=\u001b[0m \u001b[0mtype\u001b[0m\u001b[1;33m(\u001b[0m\u001b[0me\u001b[0m\u001b[1;33m)\u001b[0m\u001b[1;33m.\u001b[0m\u001b[0m__name__\u001b[0m\u001b[1;33m\u001b[0m\u001b[0m\n\u001b[0;32m    105\u001b[0m             raise EMAError((\"exception in run_model\"\n\u001b[1;32m--> 106\u001b[1;33m                             \"\\nCaused by: {}: {}\".format(errortype, str(e))))\n\u001b[0m\u001b[0;32m    107\u001b[0m \u001b[1;33m\u001b[0m\u001b[0m\n\u001b[0;32m    108\u001b[0m         \u001b[0moutcomes\u001b[0m \u001b[1;33m=\u001b[0m \u001b[0mmodel\u001b[0m\u001b[1;33m.\u001b[0m\u001b[0moutcomes_output\u001b[0m\u001b[1;33m\u001b[0m\u001b[0m\n",
      "\u001b[1;31mEMAError\u001b[0m: exception in run_model\nCaused by: ZeroDivisionError: float division by zero"
     ]
    }
   ],
   "source": [
    "n_scenarios = 2\n",
    "result = perform_experiments(models = flu_mdl, scenarios = n_scenarios)"
   ]
  },
  {
   "cell_type": "code",
   "execution_count": null,
   "metadata": {},
   "outputs": [],
   "source": []
  }
 ],
 "metadata": {
  "anaconda-cloud": {},
  "kernelspec": {
   "display_name": "Python (py36_32)",
   "language": "python",
   "name": "py36_32"
  },
  "language_info": {
   "codemirror_mode": {
    "name": "ipython",
    "version": 3
   },
   "file_extension": ".py",
   "mimetype": "text/x-python",
   "name": "python",
   "nbconvert_exporter": "python",
   "pygments_lexer": "ipython3",
   "version": "3.6.4"
  },
  "latex_envs": {
   "LaTeX_envs_menu_present": true,
   "autocomplete": true,
   "bibliofile": "biblio.bib",
   "cite_by": "apalike",
   "current_citInitial": 1,
   "eqLabelWithNumbers": true,
   "eqNumInitial": 1,
   "hotkeys": {
    "equation": "Ctrl-E",
    "itemize": "Ctrl-I"
   },
   "labels_anchors": false,
   "latex_user_defs": false,
   "report_style_numbering": false,
   "user_envs_cfg": false
  }
 },
 "nbformat": 4,
 "nbformat_minor": 2
}
